{
 "cells": [
  {
   "cell_type": "markdown",
   "id": "a0740787",
   "metadata": {},
   "source": [
    "# Question 12: What are the top 5 most frequently occurring hours in the log?”"
   ]
  },
  {
   "cell_type": "markdown",
   "id": "26ce9ee0",
   "metadata": {},
   "source": [
    "# Section 1: Data Preparation and Preprocessing"
   ]
  },
  {
   "cell_type": "markdown",
   "id": "bc7b3bf8",
   "metadata": {},
   "source": [
    "**IMPORTING NECESSARY LIBRARIES**"
   ]
  },
  {
   "cell_type": "code",
   "execution_count": 1,
   "id": "923c79cc",
   "metadata": {},
   "outputs": [],
   "source": [
    "#https://spark.apache.org/docs/latest/api/python/getting_started/quickstart_df.html\n",
    "# Importinng 'SparkSession' module which is the main entry point for DataFrame and SQL functionality. SparkSession can be used create DataFrame, register DataFrame as tables, execute SQL over tables and cache tables.\n",
    "from pyspark.sql import SparkSession\n",
    "\n",
    "# Importing 'Date (datetime.date)', 'Timestamp (datetime.datetime)' , 'Double' data type from 'Data Types' module  \n",
    "from pyspark.sql.types import DateType, TimestampType, DoubleType\n",
    "\n",
    "# importing built-in functions available for DataFrame.\n",
    "from pyspark.sql.functions import to_date, to_timestamp, col, month\n",
    "\n",
    "# Importing 'matplotlib.pyplot' module for creating and customizing plots and visualizations. \n",
    "# 'pyplot' is a part of the Matplotlib library and provides a user-friendly interface to create different types of plots.\n",
    "# https://www.geeksforgeeks.org/bar-plot-in-matplotlib/\n",
    "import matplotlib.pyplot as plt\n",
    "\n",
    "# Importing'time' module for measuring execution time\n",
    "# https://docs.python.org/3/library/time.html\n",
    "import time"
   ]
  },
  {
   "cell_type": "markdown",
   "id": "eaf7f0f0",
   "metadata": {},
   "source": [
    "**EXECUTION TIME COUNTER START**"
   ]
  },
  {
   "cell_type": "code",
   "execution_count": 2,
   "id": "9520f99f",
   "metadata": {},
   "outputs": [],
   "source": [
    "# Recording the starting time of the execution using the 'time.perf_counter()' function.It provides a high-resolution timer that measures the time elapsed in seconds to measure its execution time.\n",
    "executiontimestart= time.perf_counter()"
   ]
  },
  {
   "cell_type": "code",
   "execution_count": 3,
   "id": "5c8c3b29",
   "metadata": {},
   "outputs": [
    {
     "name": "stderr",
     "output_type": "stream",
     "text": [
      "23/08/11 21:28:38 WARN SparkSession: Using an existing Spark session; only runtime SQL configurations will take effect.\n"
     ]
    }
   ],
   "source": [
    "# Initializing SparkSession named 'ScpProject' using the SparkSession builder.\n",
    "session = SparkSession.builder.appName('ScpProject').getOrCreate()"
   ]
  },
  {
   "cell_type": "code",
   "execution_count": 4,
   "id": "faa7ecd9",
   "metadata": {},
   "outputs": [
    {
     "name": "stderr",
     "output_type": "stream",
     "text": [
      "                                                                                \r"
     ]
    }
   ],
   "source": [
    "# Reading data from CSV file into a DataFrame 'bgl_log_df'\n",
    "bgl_log_df = session.read.csv(\"BGLnew.log\", sep=',', inferSchema=True, header=False)"
   ]
  },
  {
   "cell_type": "code",
   "execution_count": 5,
   "id": "64976506",
   "metadata": {},
   "outputs": [],
   "source": [
    "# Renaming the columns 'toDF()' method for better understanding into our dataframe.\n",
    "bgl_log_df = bgl_log_df.toDF('alert_message_flag', 'timestamp', 'date', 'node', 'date_and_time', 'node_repeated',\n",
    "                             'message_type', 'system_component', 'level', 'message_content')\n"
   ]
  },
  {
   "cell_type": "code",
   "execution_count": 6,
   "id": "b83ac62a",
   "metadata": {},
   "outputs": [],
   "source": [
    "# Parsing 'date' column to standard DateType\n",
    "bgl_log_df = bgl_log_df.withColumn('date', to_date('date', 'yyyy.MM.dd'))"
   ]
  },
  {
   "cell_type": "code",
   "execution_count": 7,
   "id": "fd40fd59",
   "metadata": {},
   "outputs": [],
   "source": [
    "# Parsing 'date_and_time' column to standard TimestampType\n",
    "bgl_log_df = bgl_log_df.withColumn('date_and_time', to_timestamp('date_and_time', 'yyyy-MM-dd-HH.mm.ss.SSSSSS'))"
   ]
  },
  {
   "cell_type": "code",
   "execution_count": 8,
   "id": "6a55ab84",
   "metadata": {},
   "outputs": [],
   "source": [
    "# Casting columns to appropriate data types\n",
    "bgl_log_df = bgl_log_df.withColumn(\"timestamp\", bgl_log_df[\"timestamp\"].cast(TimestampType())) \\\n",
    "    .withColumn(\"date\", bgl_log_df[\"date\"].cast(DateType())) \\\n",
    "    .withColumn(\"date_and_time\", bgl_log_df[\"date_and_time\"].cast(TimestampType()))"
   ]
  },
  {
   "cell_type": "code",
   "execution_count": 9,
   "id": "45d2410d",
   "metadata": {},
   "outputs": [
    {
     "name": "stdout",
     "output_type": "stream",
     "text": [
      "root\n",
      " |-- alert_message_flag: string (nullable = true)\n",
      " |-- timestamp: timestamp (nullable = true)\n",
      " |-- date: date (nullable = true)\n",
      " |-- node: string (nullable = true)\n",
      " |-- date_and_time: timestamp (nullable = true)\n",
      " |-- node_repeated: string (nullable = true)\n",
      " |-- message_type: string (nullable = true)\n",
      " |-- system_component: string (nullable = true)\n",
      " |-- level: string (nullable = true)\n",
      " |-- message_content: string (nullable = true)\n",
      "\n"
     ]
    }
   ],
   "source": [
    "# Using 'printSchema()' method to display the updated schema of the DataFrame 'bgl_log_df'.\n",
    "bgl_log_df.printSchema()"
   ]
  },
  {
   "cell_type": "markdown",
   "id": "c51663d2",
   "metadata": {},
   "source": [
    "**DATA PREPRATION AND PREPROCESSING COMPLETED**"
   ]
  },
  {
   "cell_type": "code",
   "execution_count": 10,
   "id": "e72b9e71",
   "metadata": {},
   "outputs": [
    {
     "name": "stdout",
     "output_type": "stream",
     "text": [
      "-RECORD 0------------------------------------------------------\n",
      " alert_message_flag | -                                        \n",
      " timestamp          | 2005-06-03 22:42:50                      \n",
      " date               | 2005-06-03                               \n",
      " node               | R02-M1-N0-C:J12-U11                      \n",
      " date_and_time      | 2005-06-03 15:42:50.363779               \n",
      " node_repeated      | R02-M1-N0-C:J12-U11                      \n",
      " message_type       | RAS                                      \n",
      " system_component   | KERNEL                                   \n",
      " level              | INFO                                     \n",
      " message_content    | instruction cache parity error corrected \n",
      "-RECORD 1------------------------------------------------------\n",
      " alert_message_flag | -                                        \n",
      " timestamp          | 2005-06-03 22:42:50                      \n",
      " date               | 2005-06-03                               \n",
      " node               | R02-M1-N0-C:J12-U11                      \n",
      " date_and_time      | 2005-06-03 15:42:50.527847               \n",
      " node_repeated      | R02-M1-N0-C:J12-U11                      \n",
      " message_type       | RAS                                      \n",
      " system_component   | KERNEL                                   \n",
      " level              | INFO                                     \n",
      " message_content    | instruction cache parity error corrected \n",
      "-RECORD 2------------------------------------------------------\n",
      " alert_message_flag | -                                        \n",
      " timestamp          | 2005-06-03 22:42:50                      \n",
      " date               | 2005-06-03                               \n",
      " node               | R02-M1-N0-C:J12-U11                      \n",
      " date_and_time      | 2005-06-03 15:42:50.675872               \n",
      " node_repeated      | R02-M1-N0-C:J12-U11                      \n",
      " message_type       | RAS                                      \n",
      " system_component   | KERNEL                                   \n",
      " level              | INFO                                     \n",
      " message_content    | instruction cache parity error corrected \n",
      "-RECORD 3------------------------------------------------------\n",
      " alert_message_flag | -                                        \n",
      " timestamp          | 2005-06-03 22:42:50                      \n",
      " date               | 2005-06-03                               \n",
      " node               | R02-M1-N0-C:J12-U11                      \n",
      " date_and_time      | 2005-06-03 15:42:50.823719               \n",
      " node_repeated      | R02-M1-N0-C:J12-U11                      \n",
      " message_type       | RAS                                      \n",
      " system_component   | KERNEL                                   \n",
      " level              | INFO                                     \n",
      " message_content    | instruction cache parity error corrected \n",
      "-RECORD 4------------------------------------------------------\n",
      " alert_message_flag | -                                        \n",
      " timestamp          | 2005-06-03 22:42:50                      \n",
      " date               | 2005-06-03                               \n",
      " node               | R02-M1-N0-C:J12-U11                      \n",
      " date_and_time      | 2005-06-03 15:42:50.982731               \n",
      " node_repeated      | R02-M1-N0-C:J12-U11                      \n",
      " message_type       | RAS                                      \n",
      " system_component   | KERNEL                                   \n",
      " level              | INFO                                     \n",
      " message_content    | instruction cache parity error corrected \n",
      "-RECORD 5------------------------------------------------------\n",
      " alert_message_flag | -                                        \n",
      " timestamp          | 2005-06-03 22:42:51                      \n",
      " date               | 2005-06-03                               \n",
      " node               | R02-M1-N0-C:J12-U11                      \n",
      " date_and_time      | 2005-06-03 15:42:51.131467               \n",
      " node_repeated      | R02-M1-N0-C:J12-U11                      \n",
      " message_type       | RAS                                      \n",
      " system_component   | KERNEL                                   \n",
      " level              | INFO                                     \n",
      " message_content    | instruction cache parity error corrected \n",
      "-RECORD 6------------------------------------------------------\n",
      " alert_message_flag | -                                        \n",
      " timestamp          | 2005-06-03 22:42:51                      \n",
      " date               | 2005-06-03                               \n",
      " node               | R02-M1-N0-C:J12-U11                      \n",
      " date_and_time      | 2005-06-03 15:42:51.293532               \n",
      " node_repeated      | R02-M1-N0-C:J12-U11                      \n",
      " message_type       | RAS                                      \n",
      " system_component   | KERNEL                                   \n",
      " level              | INFO                                     \n",
      " message_content    | instruction cache parity error corrected \n",
      "-RECORD 7------------------------------------------------------\n",
      " alert_message_flag | -                                        \n",
      " timestamp          | 2005-06-03 22:42:51                      \n",
      " date               | 2005-06-03                               \n",
      " node               | R02-M1-N0-C:J12-U11                      \n",
      " date_and_time      | 2005-06-03 15:42:51.428563               \n",
      " node_repeated      | R02-M1-N0-C:J12-U11                      \n",
      " message_type       | RAS                                      \n",
      " system_component   | KERNEL                                   \n",
      " level              | INFO                                     \n",
      " message_content    | instruction cache parity error corrected \n",
      "-RECORD 8------------------------------------------------------\n",
      " alert_message_flag | -                                        \n",
      " timestamp          | 2005-06-03 22:42:51                      \n",
      " date               | 2005-06-03                               \n",
      " node               | R02-M1-N0-C:J12-U11                      \n",
      " date_and_time      | 2005-06-03 15:42:51.601412               \n",
      " node_repeated      | R02-M1-N0-C:J12-U11                      \n",
      " message_type       | RAS                                      \n",
      " system_component   | KERNEL                                   \n",
      " level              | INFO                                     \n",
      " message_content    | instruction cache parity error corrected \n",
      "-RECORD 9------------------------------------------------------\n",
      " alert_message_flag | -                                        \n",
      " timestamp          | 2005-06-03 22:42:51                      \n",
      " date               | 2005-06-03                               \n",
      " node               | R02-M1-N0-C:J12-U11                      \n",
      " date_and_time      | 2005-06-03 15:42:51.749199               \n",
      " node_repeated      | R02-M1-N0-C:J12-U11                      \n",
      " message_type       | RAS                                      \n",
      " system_component   | KERNEL                                   \n",
      " level              | INFO                                     \n",
      " message_content    | instruction cache parity error corrected \n",
      "-RECORD 10-----------------------------------------------------\n",
      " alert_message_flag | -                                        \n",
      " timestamp          | 2005-06-03 22:42:51                      \n",
      " date               | 2005-06-03                               \n",
      " node               | R02-M1-N0-C:J12-U11                      \n",
      " date_and_time      | 2005-06-03 15:42:51.885834               \n",
      " node_repeated      | R02-M1-N0-C:J12-U11                      \n",
      " message_type       | RAS                                      \n",
      " system_component   | KERNEL                                   \n",
      " level              | INFO                                     \n",
      " message_content    | instruction cache parity error corrected \n",
      "-RECORD 11-----------------------------------------------------\n",
      " alert_message_flag | -                                        \n",
      " timestamp          | 2005-06-03 22:42:52                      \n",
      " date               | 2005-06-03                               \n",
      " node               | R02-M1-N0-C:J12-U11                      \n",
      " date_and_time      | 2005-06-03 15:42:52.041388               \n",
      " node_repeated      | R02-M1-N0-C:J12-U11                      \n",
      " message_type       | RAS                                      \n",
      " system_component   | KERNEL                                   \n",
      " level              | INFO                                     \n",
      " message_content    | instruction cache parity error corrected \n",
      "-RECORD 12-----------------------------------------------------\n",
      " alert_message_flag | -                                        \n",
      " timestamp          | 2005-06-03 22:42:52                      \n",
      " date               | 2005-06-03                               \n",
      " node               | R02-M1-N0-C:J12-U11                      \n",
      " date_and_time      | 2005-06-03 15:42:52.199063               \n",
      " node_repeated      | R02-M1-N0-C:J12-U11                      \n",
      " message_type       | RAS                                      \n",
      " system_component   | KERNEL                                   \n",
      " level              | INFO                                     \n",
      " message_content    | instruction cache parity error corrected \n",
      "-RECORD 13-----------------------------------------------------\n",
      " alert_message_flag | -                                        \n",
      " timestamp          | 2005-06-03 22:42:52                      \n",
      " date               | 2005-06-03                               \n",
      " node               | R02-M1-N0-C:J12-U11                      \n",
      " date_and_time      | 2005-06-03 15:42:52.345821               \n",
      " node_repeated      | R02-M1-N0-C:J12-U11                      \n",
      " message_type       | RAS                                      \n",
      " system_component   | KERNEL                                   \n",
      " level              | INFO                                     \n",
      " message_content    | instruction cache parity error corrected \n",
      "-RECORD 14-----------------------------------------------------\n",
      " alert_message_flag | -                                        \n",
      " timestamp          | 2005-06-03 22:42:52                      \n",
      " date               | 2005-06-03                               \n",
      " node               | R02-M1-N0-C:J12-U11                      \n",
      " date_and_time      | 2005-06-03 15:42:52.493353               \n",
      " node_repeated      | R02-M1-N0-C:J12-U11                      \n",
      " message_type       | RAS                                      \n",
      " system_component   | KERNEL                                   \n",
      " level              | INFO                                     \n",
      " message_content    | instruction cache parity error corrected \n",
      "-RECORD 15-----------------------------------------------------\n",
      " alert_message_flag | -                                        \n",
      " timestamp          | 2005-06-03 22:42:52                      \n",
      " date               | 2005-06-03                               \n",
      " node               | R02-M1-N0-C:J12-U11                      \n",
      " date_and_time      | 2005-06-03 15:42:52.638135               \n",
      " node_repeated      | R02-M1-N0-C:J12-U11                      \n",
      " message_type       | RAS                                      \n",
      " system_component   | KERNEL                                   \n",
      " level              | INFO                                     \n",
      " message_content    | instruction cache parity error corrected \n",
      "-RECORD 16-----------------------------------------------------\n",
      " alert_message_flag | -                                        \n",
      " timestamp          | 2005-06-03 22:42:52                      \n",
      " date               | 2005-06-03                               \n",
      " node               | R02-M1-N0-C:J12-U11                      \n",
      " date_and_time      | 2005-06-03 15:42:52.807927               \n",
      " node_repeated      | R02-M1-N0-C:J12-U11                      \n",
      " message_type       | RAS                                      \n",
      " system_component   | KERNEL                                   \n",
      " level              | INFO                                     \n",
      " message_content    | instruction cache parity error corrected \n",
      "-RECORD 17-----------------------------------------------------\n",
      " alert_message_flag | -                                        \n",
      " timestamp          | 2005-06-03 22:42:52                      \n",
      " date               | 2005-06-03                               \n",
      " node               | R02-M1-N0-C:J12-U11                      \n",
      " date_and_time      | 2005-06-03 15:42:52.951717               \n",
      " node_repeated      | R02-M1-N0-C:J12-U11                      \n",
      " message_type       | RAS                                      \n",
      " system_component   | KERNEL                                   \n",
      " level              | INFO                                     \n",
      " message_content    | instruction cache parity error corrected \n",
      "-RECORD 18-----------------------------------------------------\n",
      " alert_message_flag | -                                        \n",
      " timestamp          | 2005-06-03 22:42:53                      \n",
      " date               | 2005-06-03                               \n",
      " node               | R02-M1-N0-C:J12-U11                      \n",
      " date_and_time      | 2005-06-03 15:42:53.12578                \n",
      " node_repeated      | R02-M1-N0-C:J12-U11                      \n",
      " message_type       | RAS                                      \n",
      " system_component   | KERNEL                                   \n",
      " level              | INFO                                     \n",
      " message_content    | instruction cache parity error corrected \n",
      "-RECORD 19-----------------------------------------------------\n",
      " alert_message_flag | -                                        \n",
      " timestamp          | 2005-06-03 22:42:53                      \n",
      " date               | 2005-06-03                               \n",
      " node               | R02-M1-N0-C:J12-U11                      \n",
      " date_and_time      | 2005-06-03 15:42:53.276129               \n",
      " node_repeated      | R02-M1-N0-C:J12-U11                      \n",
      " message_type       | RAS                                      \n",
      " system_component   | KERNEL                                   \n",
      " level              | INFO                                     \n",
      " message_content    | instruction cache parity error corrected \n",
      "only showing top 20 rows\n",
      "\n"
     ]
    }
   ],
   "source": [
    "# We are using the 'show()' method to display the DataFrame 'bgl_log_df' in a vertical format.\n",
    "# The 'vertical=True' argument is used to display the DataFrame vertically, showing each row in a single line.\n",
    "# The 'truncate=False' argument is used to prevent truncation of column values, ensuring complete visibility of the data.\n",
    "bgl_log_df.show(truncate=False, vertical=True)"
   ]
  },
  {
   "cell_type": "markdown",
   "id": "d4fa8c6f",
   "metadata": {},
   "source": [
    "# Section 2: Log Data Analysis : Spark SQL"
   ]
  },
  {
   "cell_type": "markdown",
   "id": "d77834c0",
   "metadata": {},
   "source": [
    "**TOTAL NUMBER OF LOG ENTRIES IN THE LOG DATASET COUNT**"
   ]
  },
  {
   "cell_type": "code",
   "execution_count": 11,
   "id": "8a06cc1d",
   "metadata": {},
   "outputs": [
    {
     "data": {
      "text/plain": [
       "4747963"
      ]
     },
     "execution_count": 11,
     "metadata": {},
     "output_type": "execute_result"
    }
   ],
   "source": [
    "# Count total logs in the DataFrame\n",
    "total_logs_count = bgl_log_df.count()\n",
    "\n",
    "# Display the total number of logs\n",
    "total_logs_count"
   ]
  },
  {
   "cell_type": "markdown",
   "id": "ff7a3f8a",
   "metadata": {},
   "source": [
    "**CREATING TEMPORARY VIEW OF THE DATAFRAME**"
   ]
  },
  {
   "cell_type": "code",
   "execution_count": 12,
   "id": "c2dcd0c1",
   "metadata": {},
   "outputs": [],
   "source": [
    "# Using the 'createOrReplaceTempView()' method to create a temporary view of the DataFrame 'bgl_log_df'.\n",
    "# This temporary view, named \"bgllogtable,\" allows us to perform SQL queries and leverage the power of SQL to interact with the DataFrame and perform complex data analysis and transformations.\n",
    "# NOTE: The temporary view exists for the duration of the SparkSession and can be queried using Spark SQL syntax.\n",
    "bgl_log_df.createOrReplaceTempView(\"bgllogtable\")"
   ]
  },
  {
   "cell_type": "markdown",
   "id": "d20ecc04",
   "metadata": {},
   "source": [
    "<span style=\"color:blue\">**SQL Query for Question 12: Top 5 Most Frequent Occurring Hours**</SPAN>\n",
    "\n",
    "***1. SELECT HOUR(date_and_time) AS hour_HH, COUNT(*) AS Occurance_Count***\n",
    "   - We are selecting the 'hour' part from the 'date_and_time' column using the 'HOUR()' function and aliasing it as 'hour_HH'.\n",
    "   - The 'COUNT()' function is used to calculate the number of occurrences for each hour and is aliased as 'Occurance_Count'.\n",
    "\n",
    "***2. FROM bgllogtable***\n",
    "   - We are selecting data from the 'bgllogtable' where the log entries are stored.\n",
    "\n",
    "***3. GROUP BY HOUR(date_and_time)***\n",
    "   - We are grouping the log entries by the 'hour' part of the 'date_and_time' column.\n",
    "   - This helps in counting the occurrences of log entries for each hour.\n",
    "\n",
    "***4. ORDER BY Occurance_Count DESC***\n",
    "   - We are arranging the result in descending order based on the 'Occurance_Count'.\n",
    "   - This will ensure that the most frequent hours appear at the top.\n",
    "\n",
    "<span style=\"color:blue\">**The output of this SQL query will provide the top 5 hours and their corresponding occurrence counts, which can be used for further analysis and visualization to gain insights into the log entry patterns.**<span style=\"color:blue\">"
   ]
  },
  {
   "cell_type": "code",
   "execution_count": 13,
   "id": "93c12d18",
   "metadata": {},
   "outputs": [],
   "source": [
    "SQL_question12=\"\"\"\n",
    "SELECT HOUR(date_and_time) AS hour_HH, COUNT(*) AS Occurance_Count\n",
    "FROM bgllogtable\n",
    "GROUP BY HOUR(date_and_time)\n",
    "ORDER BY Occurance_Count DESC;\n",
    "\"\"\""
   ]
  },
  {
   "cell_type": "markdown",
   "id": "691ab842",
   "metadata": {},
   "source": [
    "<span style=\"color:blue\">***THE TOP 5 MOST FREQUENTLY OCCURING HOURS IN THE LOG***<span style=\"color:blue\">"
   ]
  },
  {
   "cell_type": "code",
   "execution_count": 14,
   "id": "aaf2bfe4",
   "metadata": {},
   "outputs": [
    {
     "name": "stderr",
     "output_type": "stream",
     "text": [
      "[Stage 6:=============================>                             (3 + 3) / 6]\r"
     ]
    },
    {
     "name": "stdout",
     "output_type": "stream",
     "text": [
      "+-------+---------------+\n",
      "|hour_HH|Occurance_Count|\n",
      "+-------+---------------+\n",
      "|     11|         388648|\n",
      "|     10|         379141|\n",
      "|     12|         354389|\n",
      "|      8|         315017|\n",
      "|      9|         308801|\n",
      "+-------+---------------+\n",
      "only showing top 5 rows\n",
      "\n"
     ]
    },
    {
     "name": "stderr",
     "output_type": "stream",
     "text": [
      "\r",
      "                                                                                \r"
     ]
    }
   ],
   "source": [
    "# Using the 'session' object to execute an SQL query and display the results.\n",
    "sql_result_df=session.sql(SQL_question12)\n",
    "sql_result_df.show(5)"
   ]
  },
  {
   "cell_type": "code",
   "execution_count": 15,
   "id": "87d3d36a",
   "metadata": {},
   "outputs": [
    {
     "name": "stderr",
     "output_type": "stream",
     "text": [
      "                                                                                \r"
     ]
    }
   ],
   "source": [
    "#converting the Spark DataFrame to a Pandas DataFrame for plotting\n",
    "pandas_df = sql_result_df.toPandas()"
   ]
  },
  {
   "cell_type": "markdown",
   "id": "e97f844a",
   "metadata": {},
   "source": [
    "# Section 3: Visualization"
   ]
  },
  {
   "cell_type": "markdown",
   "id": "fe1a45cb",
   "metadata": {},
   "source": [
    "<span style=\"color:blue\">***VISUALISING THE TOP 5 MOST FREQUENTLY OCCURING HOURS IN THE LOG***</span> MARKED IN <span style=\"color:red\">RED</span>"
   ]
  },
  {
   "cell_type": "code",
   "execution_count": 16,
   "id": "a18cd835",
   "metadata": {},
   "outputs": [
    {
     "data": {
      "image/png": "[encoded data removed]",
      "text/plain": [
       "<Figure size 800x600 with 1 Axes>"
      ]
     },
     "metadata": {},
     "output_type": "display_data"
    }
   ],
   "source": [
    "# https://www.geeksforgeeks.org/bar-plot-in-matplotlib/\n",
    "# Plotting the bar chart\n",
    "plt.figure(figsize=(8, 6))\n",
    "plt.bar(pandas_df[\"hour_HH\"], pandas_df[\"Occurance_Count\"], color=\"blue\")\n",
    "\n",
    "# Highlight the top five occurrences in red\n",
    "top_five = pandas_df.iloc[:5]\n",
    "plt.bar(top_five[\"hour_HH\"], top_five[\"Occurance_Count\"], color=\"red\")\n",
    "\n",
    "# Add labels and title\n",
    "plt.xlabel(\"Hour of the Day\")\n",
    "plt.ylabel(\"Frequency\")\n",
    "plt.title(\"Top Five Most Frequent Hours in the Log\")\n",
    "plt.xticks(pandas_df['hour_HH'])\n",
    "plt.grid(axis='y', linestyle='--', alpha=0.7)\n",
    "\n",
    "# Show the plot\n",
    "plt.show()"
   ]
  },
  {
   "cell_type": "code",
   "execution_count": 17,
   "id": "f69c48b8",
   "metadata": {},
   "outputs": [],
   "source": [
    "# Measuring end of execution time. \n",
    "#https://docs.python.org/3/library/time.html\n",
    "#returns the value (in fractional seconds) of a performance counter.It does include time elapsed during sleep and is system-wide.\n",
    "executiontimeend= time.perf_counter()"
   ]
  },
  {
   "cell_type": "code",
   "execution_count": 18,
   "id": "9d897ef2",
   "metadata": {},
   "outputs": [
    {
     "data": {
      "text/plain": [
       "9.194009243990877"
      ]
     },
     "execution_count": 18,
     "metadata": {},
     "output_type": "execute_result"
    }
   ],
   "source": [
    "# Calculating the total execution time by subtracting the start time from the end time.\n",
    "# Calculating the total execution time as  time.perf_counter() returns the absolute value of the counter\n",
    "# https://stackoverflow.com/questions/25785243/understanding-time-perf-counter-and-time-process-time\n",
    "totalexecution_time= executiontimeend - executiontimestart\n",
    "totalexecution_time"
   ]
  },
  {
   "cell_type": "code",
   "execution_count": 19,
   "id": "3efd5715",
   "metadata": {},
   "outputs": [
    {
     "data": {
      "text/html": [
       "\n",
       "            <div>\n",
       "                <p><b>SparkSession - hive</b></p>\n",
       "                \n",
       "        <div>\n",
       "            <p><b>SparkContext</b></p>\n",
       "\n",
       "            <p><a href=\"http://192.168.64.4:4046\">Spark UI</a></p>\n",
       "\n",
       "            <dl>\n",
       "              <dt>Version</dt>\n",
       "                <dd><code>v3.4.0</code></dd>\n",
       "              <dt>Master</dt>\n",
       "                <dd><code>local[*]</code></dd>\n",
       "              <dt>AppName</dt>\n",
       "                <dd><code>PySparkShell</code></dd>\n",
       "            </dl>\n",
       "        </div>\n",
       "        \n",
       "            </div>\n",
       "        "
      ],
      "text/plain": [
       "<pyspark.sql.session.SparkSession at 0xffff49f777c0>"
      ]
     },
     "execution_count": 19,
     "metadata": {},
     "output_type": "execute_result"
    }
   ],
   "source": [
    "# all the information on the 'spark runtime environment', executors sumamry, jobs and its stages can be found on 'Spark UI'\n",
    "spark"
   ]
  }
 ],
 "metadata": {
  "kernelspec": {
   "display_name": "Python 3 (ipykernel)",
   "language": "python",
   "name": "python3"
  },
  "language_info": {
   "codemirror_mode": {
    "name": "ipython",
    "version": 3
   },
   "file_extension": ".py",
   "mimetype": "text/x-python",
   "name": "python",
   "nbconvert_exporter": "python",
   "pygments_lexer": "ipython3",
   "version": "3.10.12"
  }
 },
 "nbformat": 4,
 "nbformat_minor": 5
}
