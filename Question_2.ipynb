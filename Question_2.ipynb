{
 "cells": [
  {
   "cell_type": "markdown",
   "id": "a0740787",
   "metadata": {},
   "source": [
    "# Question 2: How many fatal log entries in the month of September resulted from a ”major internal error”"
   ]
  },
  {
   "cell_type": "markdown",
   "id": "26ce9ee0",
   "metadata": {},
   "source": [
    "# Section 1: Data Preparation and Preprocessing"
   ]
  },
  {
   "cell_type": "markdown",
   "id": "bc7b3bf8",
   "metadata": {},
   "source": [
    "**IMPORTING NECESSARY LIBRARIES**"
   ]
  },
  {
   "cell_type": "code",
   "execution_count": 1,
   "id": "923c79cc",
   "metadata": {},
   "outputs": [],
   "source": [
    "#https://spark.apache.org/docs/latest/api/python/getting_started/quickstart_df.html\n",
    "\n",
    "# Importinng 'SparkSession' module which is the main entry point for DataFrame and SQL functionality. SparkSession can be used create DataFrame, register DataFrame as tables, execute SQL over tables and cache tables.\n",
    "from pyspark.sql import SparkSession\n",
    "\n",
    "# Importing 'Date (datetime.date)', 'Timestamp (datetime.datetime)' , 'Double' data type from 'Data Types' module  \n",
    "from pyspark.sql.types import DateType, TimestampType, DoubleType\n",
    "\n",
    "# importing built-in functions available for DataFrame.\n",
    "from pyspark.sql.functions import to_date, to_timestamp, col, month\n",
    "\n",
    "# Importing 'matplotlib.pyplot' module for creating and customizing plots and visualizations. \n",
    "# 'pyplot' is a part of the Matplotlib library and provides a user-friendly interface to create different types of plots.\n",
    "import matplotlib.pyplot as plt\n",
    "\n",
    "# Importing'time' module for measuring execution time.\n",
    "# https://docs.python.org/3/library/time.html\n",
    "import time"
   ]
  },
  {
   "cell_type": "markdown",
   "id": "eaf7f0f0",
   "metadata": {},
   "source": [
    "**EXECUTION TIME COUNTER START**"
   ]
  },
  {
   "cell_type": "code",
   "execution_count": 2,
   "id": "9520f99f",
   "metadata": {},
   "outputs": [],
   "source": [
    "# Recording the starting time of the execution using the 'time.perf_counter()' function.It provides a high-resolution timer that measures the time elapsed in seconds to measure its execution time.\n",
    "executiontimestart= time.perf_counter()"
   ]
  },
  {
   "cell_type": "code",
   "execution_count": 3,
   "id": "5c8c3b29",
   "metadata": {},
   "outputs": [
    {
     "name": "stderr",
     "output_type": "stream",
     "text": [
      "23/08/11 21:12:43 WARN SparkSession: Using an existing Spark session; only runtime SQL configurations will take effect.\n"
     ]
    }
   ],
   "source": [
    "# Initializing SparkSession named 'ScpProject' using the SparkSession builder.\n",
    "session = SparkSession.builder.appName('ScpProject').getOrCreate()"
   ]
  },
  {
   "cell_type": "code",
   "execution_count": 4,
   "id": "faa7ecd9",
   "metadata": {},
   "outputs": [
    {
     "name": "stderr",
     "output_type": "stream",
     "text": [
      "                                                                                \r"
     ]
    }
   ],
   "source": [
    "# Reading data from CSV file into a DataFrame 'bgl_log_df'\n",
    "bgl_log_df = session.read.csv(\"BGLnew.log\", sep=',', inferSchema=True, header=False)"
   ]
  },
  {
   "cell_type": "code",
   "execution_count": 5,
   "id": "64976506",
   "metadata": {},
   "outputs": [],
   "source": [
    "# Renaming the columns 'toDF()' method for better understanding into our dataframe.\n",
    "bgl_log_df = bgl_log_df.toDF('alert_message_flag', 'timestamp', 'date', 'node', 'date_and_time', 'node_repeated',\n",
    "                             'message_type', 'system_component', 'level', 'message_content')\n"
   ]
  },
  {
   "cell_type": "code",
   "execution_count": 6,
   "id": "b83ac62a",
   "metadata": {},
   "outputs": [],
   "source": [
    "# Parsing 'date' column to standard DateType\n",
    "bgl_log_df = bgl_log_df.withColumn('date', to_date('date', 'yyyy.MM.dd'))"
   ]
  },
  {
   "cell_type": "code",
   "execution_count": 7,
   "id": "fd40fd59",
   "metadata": {},
   "outputs": [],
   "source": [
    "# Parsing 'date_and_time' column to standard TimestampType\n",
    "bgl_log_df = bgl_log_df.withColumn('date_and_time', to_timestamp('date_and_time', 'yyyy-MM-dd-HH.mm.ss.SSSSSS'))"
   ]
  },
  {
   "cell_type": "code",
   "execution_count": 8,
   "id": "6a55ab84",
   "metadata": {},
   "outputs": [],
   "source": [
    "# Casting columns to appropriate data types\n",
    "bgl_log_df = bgl_log_df.withColumn(\"timestamp\", bgl_log_df[\"timestamp\"].cast(TimestampType())) \\\n",
    "    .withColumn(\"date\", bgl_log_df[\"date\"].cast(DateType())) \\\n",
    "    .withColumn(\"date_and_time\", bgl_log_df[\"date_and_time\"].cast(TimestampType()))"
   ]
  },
  {
   "cell_type": "code",
   "execution_count": 9,
   "id": "45d2410d",
   "metadata": {},
   "outputs": [
    {
     "name": "stdout",
     "output_type": "stream",
     "text": [
      "root\n",
      " |-- alert_message_flag: string (nullable = true)\n",
      " |-- timestamp: timestamp (nullable = true)\n",
      " |-- date: date (nullable = true)\n",
      " |-- node: string (nullable = true)\n",
      " |-- date_and_time: timestamp (nullable = true)\n",
      " |-- node_repeated: string (nullable = true)\n",
      " |-- message_type: string (nullable = true)\n",
      " |-- system_component: string (nullable = true)\n",
      " |-- level: string (nullable = true)\n",
      " |-- message_content: string (nullable = true)\n",
      "\n"
     ]
    }
   ],
   "source": [
    "# Using 'printSchema()' method to display the updated schema of the DataFrame 'bgl_log_df'.\n",
    "bgl_log_df.printSchema()"
   ]
  },
  {
   "cell_type": "markdown",
   "id": "c51663d2",
   "metadata": {},
   "source": [
    "**DATA PREPRATION AND PREPROCESSING COMPLETED**"
   ]
  },
  {
   "cell_type": "code",
   "execution_count": 10,
   "id": "e72b9e71",
   "metadata": {},
   "outputs": [
    {
     "name": "stdout",
     "output_type": "stream",
     "text": [
      "-RECORD 0------------------------------------------------------\n",
      " alert_message_flag | -                                        \n",
      " timestamp          | 2005-06-03 22:42:50                      \n",
      " date               | 2005-06-03                               \n",
      " node               | R02-M1-N0-C:J12-U11                      \n",
      " date_and_time      | 2005-06-03 15:42:50.363779               \n",
      " node_repeated      | R02-M1-N0-C:J12-U11                      \n",
      " message_type       | RAS                                      \n",
      " system_component   | KERNEL                                   \n",
      " level              | INFO                                     \n",
      " message_content    | instruction cache parity error corrected \n",
      "-RECORD 1------------------------------------------------------\n",
      " alert_message_flag | -                                        \n",
      " timestamp          | 2005-06-03 22:42:50                      \n",
      " date               | 2005-06-03                               \n",
      " node               | R02-M1-N0-C:J12-U11                      \n",
      " date_and_time      | 2005-06-03 15:42:50.527847               \n",
      " node_repeated      | R02-M1-N0-C:J12-U11                      \n",
      " message_type       | RAS                                      \n",
      " system_component   | KERNEL                                   \n",
      " level              | INFO                                     \n",
      " message_content    | instruction cache parity error corrected \n",
      "-RECORD 2------------------------------------------------------\n",
      " alert_message_flag | -                                        \n",
      " timestamp          | 2005-06-03 22:42:50                      \n",
      " date               | 2005-06-03                               \n",
      " node               | R02-M1-N0-C:J12-U11                      \n",
      " date_and_time      | 2005-06-03 15:42:50.675872               \n",
      " node_repeated      | R02-M1-N0-C:J12-U11                      \n",
      " message_type       | RAS                                      \n",
      " system_component   | KERNEL                                   \n",
      " level              | INFO                                     \n",
      " message_content    | instruction cache parity error corrected \n",
      "-RECORD 3------------------------------------------------------\n",
      " alert_message_flag | -                                        \n",
      " timestamp          | 2005-06-03 22:42:50                      \n",
      " date               | 2005-06-03                               \n",
      " node               | R02-M1-N0-C:J12-U11                      \n",
      " date_and_time      | 2005-06-03 15:42:50.823719               \n",
      " node_repeated      | R02-M1-N0-C:J12-U11                      \n",
      " message_type       | RAS                                      \n",
      " system_component   | KERNEL                                   \n",
      " level              | INFO                                     \n",
      " message_content    | instruction cache parity error corrected \n",
      "-RECORD 4------------------------------------------------------\n",
      " alert_message_flag | -                                        \n",
      " timestamp          | 2005-06-03 22:42:50                      \n",
      " date               | 2005-06-03                               \n",
      " node               | R02-M1-N0-C:J12-U11                      \n",
      " date_and_time      | 2005-06-03 15:42:50.982731               \n",
      " node_repeated      | R02-M1-N0-C:J12-U11                      \n",
      " message_type       | RAS                                      \n",
      " system_component   | KERNEL                                   \n",
      " level              | INFO                                     \n",
      " message_content    | instruction cache parity error corrected \n",
      "-RECORD 5------------------------------------------------------\n",
      " alert_message_flag | -                                        \n",
      " timestamp          | 2005-06-03 22:42:51                      \n",
      " date               | 2005-06-03                               \n",
      " node               | R02-M1-N0-C:J12-U11                      \n",
      " date_and_time      | 2005-06-03 15:42:51.131467               \n",
      " node_repeated      | R02-M1-N0-C:J12-U11                      \n",
      " message_type       | RAS                                      \n",
      " system_component   | KERNEL                                   \n",
      " level              | INFO                                     \n",
      " message_content    | instruction cache parity error corrected \n",
      "-RECORD 6------------------------------------------------------\n",
      " alert_message_flag | -                                        \n",
      " timestamp          | 2005-06-03 22:42:51                      \n",
      " date               | 2005-06-03                               \n",
      " node               | R02-M1-N0-C:J12-U11                      \n",
      " date_and_time      | 2005-06-03 15:42:51.293532               \n",
      " node_repeated      | R02-M1-N0-C:J12-U11                      \n",
      " message_type       | RAS                                      \n",
      " system_component   | KERNEL                                   \n",
      " level              | INFO                                     \n",
      " message_content    | instruction cache parity error corrected \n",
      "-RECORD 7------------------------------------------------------\n",
      " alert_message_flag | -                                        \n",
      " timestamp          | 2005-06-03 22:42:51                      \n",
      " date               | 2005-06-03                               \n",
      " node               | R02-M1-N0-C:J12-U11                      \n",
      " date_and_time      | 2005-06-03 15:42:51.428563               \n",
      " node_repeated      | R02-M1-N0-C:J12-U11                      \n",
      " message_type       | RAS                                      \n",
      " system_component   | KERNEL                                   \n",
      " level              | INFO                                     \n",
      " message_content    | instruction cache parity error corrected \n",
      "-RECORD 8------------------------------------------------------\n",
      " alert_message_flag | -                                        \n",
      " timestamp          | 2005-06-03 22:42:51                      \n",
      " date               | 2005-06-03                               \n",
      " node               | R02-M1-N0-C:J12-U11                      \n",
      " date_and_time      | 2005-06-03 15:42:51.601412               \n",
      " node_repeated      | R02-M1-N0-C:J12-U11                      \n",
      " message_type       | RAS                                      \n",
      " system_component   | KERNEL                                   \n",
      " level              | INFO                                     \n",
      " message_content    | instruction cache parity error corrected \n",
      "-RECORD 9------------------------------------------------------\n",
      " alert_message_flag | -                                        \n",
      " timestamp          | 2005-06-03 22:42:51                      \n",
      " date               | 2005-06-03                               \n",
      " node               | R02-M1-N0-C:J12-U11                      \n",
      " date_and_time      | 2005-06-03 15:42:51.749199               \n",
      " node_repeated      | R02-M1-N0-C:J12-U11                      \n",
      " message_type       | RAS                                      \n",
      " system_component   | KERNEL                                   \n",
      " level              | INFO                                     \n",
      " message_content    | instruction cache parity error corrected \n",
      "-RECORD 10-----------------------------------------------------\n",
      " alert_message_flag | -                                        \n",
      " timestamp          | 2005-06-03 22:42:51                      \n",
      " date               | 2005-06-03                               \n",
      " node               | R02-M1-N0-C:J12-U11                      \n",
      " date_and_time      | 2005-06-03 15:42:51.885834               \n",
      " node_repeated      | R02-M1-N0-C:J12-U11                      \n",
      " message_type       | RAS                                      \n",
      " system_component   | KERNEL                                   \n",
      " level              | INFO                                     \n",
      " message_content    | instruction cache parity error corrected \n",
      "-RECORD 11-----------------------------------------------------\n",
      " alert_message_flag | -                                        \n",
      " timestamp          | 2005-06-03 22:42:52                      \n",
      " date               | 2005-06-03                               \n",
      " node               | R02-M1-N0-C:J12-U11                      \n",
      " date_and_time      | 2005-06-03 15:42:52.041388               \n",
      " node_repeated      | R02-M1-N0-C:J12-U11                      \n",
      " message_type       | RAS                                      \n",
      " system_component   | KERNEL                                   \n",
      " level              | INFO                                     \n",
      " message_content    | instruction cache parity error corrected \n",
      "-RECORD 12-----------------------------------------------------\n",
      " alert_message_flag | -                                        \n",
      " timestamp          | 2005-06-03 22:42:52                      \n",
      " date               | 2005-06-03                               \n",
      " node               | R02-M1-N0-C:J12-U11                      \n",
      " date_and_time      | 2005-06-03 15:42:52.199063               \n",
      " node_repeated      | R02-M1-N0-C:J12-U11                      \n",
      " message_type       | RAS                                      \n",
      " system_component   | KERNEL                                   \n",
      " level              | INFO                                     \n",
      " message_content    | instruction cache parity error corrected \n",
      "-RECORD 13-----------------------------------------------------\n",
      " alert_message_flag | -                                        \n",
      " timestamp          | 2005-06-03 22:42:52                      \n",
      " date               | 2005-06-03                               \n",
      " node               | R02-M1-N0-C:J12-U11                      \n",
      " date_and_time      | 2005-06-03 15:42:52.345821               \n",
      " node_repeated      | R02-M1-N0-C:J12-U11                      \n",
      " message_type       | RAS                                      \n",
      " system_component   | KERNEL                                   \n",
      " level              | INFO                                     \n",
      " message_content    | instruction cache parity error corrected \n",
      "-RECORD 14-----------------------------------------------------\n",
      " alert_message_flag | -                                        \n",
      " timestamp          | 2005-06-03 22:42:52                      \n",
      " date               | 2005-06-03                               \n",
      " node               | R02-M1-N0-C:J12-U11                      \n",
      " date_and_time      | 2005-06-03 15:42:52.493353               \n",
      " node_repeated      | R02-M1-N0-C:J12-U11                      \n",
      " message_type       | RAS                                      \n",
      " system_component   | KERNEL                                   \n",
      " level              | INFO                                     \n",
      " message_content    | instruction cache parity error corrected \n",
      "-RECORD 15-----------------------------------------------------\n",
      " alert_message_flag | -                                        \n",
      " timestamp          | 2005-06-03 22:42:52                      \n",
      " date               | 2005-06-03                               \n",
      " node               | R02-M1-N0-C:J12-U11                      \n",
      " date_and_time      | 2005-06-03 15:42:52.638135               \n",
      " node_repeated      | R02-M1-N0-C:J12-U11                      \n",
      " message_type       | RAS                                      \n",
      " system_component   | KERNEL                                   \n",
      " level              | INFO                                     \n",
      " message_content    | instruction cache parity error corrected \n",
      "-RECORD 16-----------------------------------------------------\n",
      " alert_message_flag | -                                        \n",
      " timestamp          | 2005-06-03 22:42:52                      \n",
      " date               | 2005-06-03                               \n",
      " node               | R02-M1-N0-C:J12-U11                      \n",
      " date_and_time      | 2005-06-03 15:42:52.807927               \n",
      " node_repeated      | R02-M1-N0-C:J12-U11                      \n",
      " message_type       | RAS                                      \n",
      " system_component   | KERNEL                                   \n",
      " level              | INFO                                     \n",
      " message_content    | instruction cache parity error corrected \n",
      "-RECORD 17-----------------------------------------------------\n",
      " alert_message_flag | -                                        \n",
      " timestamp          | 2005-06-03 22:42:52                      \n",
      " date               | 2005-06-03                               \n",
      " node               | R02-M1-N0-C:J12-U11                      \n",
      " date_and_time      | 2005-06-03 15:42:52.951717               \n",
      " node_repeated      | R02-M1-N0-C:J12-U11                      \n",
      " message_type       | RAS                                      \n",
      " system_component   | KERNEL                                   \n",
      " level              | INFO                                     \n",
      " message_content    | instruction cache parity error corrected \n",
      "-RECORD 18-----------------------------------------------------\n",
      " alert_message_flag | -                                        \n",
      " timestamp          | 2005-06-03 22:42:53                      \n",
      " date               | 2005-06-03                               \n",
      " node               | R02-M1-N0-C:J12-U11                      \n",
      " date_and_time      | 2005-06-03 15:42:53.12578                \n",
      " node_repeated      | R02-M1-N0-C:J12-U11                      \n",
      " message_type       | RAS                                      \n",
      " system_component   | KERNEL                                   \n",
      " level              | INFO                                     \n",
      " message_content    | instruction cache parity error corrected \n",
      "-RECORD 19-----------------------------------------------------\n",
      " alert_message_flag | -                                        \n",
      " timestamp          | 2005-06-03 22:42:53                      \n",
      " date               | 2005-06-03                               \n",
      " node               | R02-M1-N0-C:J12-U11                      \n",
      " date_and_time      | 2005-06-03 15:42:53.276129               \n",
      " node_repeated      | R02-M1-N0-C:J12-U11                      \n",
      " message_type       | RAS                                      \n",
      " system_component   | KERNEL                                   \n",
      " level              | INFO                                     \n",
      " message_content    | instruction cache parity error corrected \n",
      "only showing top 20 rows\n",
      "\n"
     ]
    }
   ],
   "source": [
    "# We are using the 'show()' method to display the DataFrame 'bgl_log_df' in a vertical format.\n",
    "# The 'vertical=True' argument is used to display the DataFrame vertically, showing each row in a single line.\n",
    "# The 'truncate=False' argument is used to prevent truncation of column values, ensuring complete visibility of the data.\n",
    "bgl_log_df.show(truncate=False, vertical=True)"
   ]
  },
  {
   "cell_type": "markdown",
   "id": "d4fa8c6f",
   "metadata": {},
   "source": [
    "# Section 2: Log Data Analysis"
   ]
  },
  {
   "cell_type": "markdown",
   "id": "d77834c0",
   "metadata": {},
   "source": [
    "**TOTAL NUMBER OF LOG ENTRIES IN THE LOG DATASET COUNT**"
   ]
  },
  {
   "cell_type": "code",
   "execution_count": 11,
   "id": "8a06cc1d",
   "metadata": {},
   "outputs": [
    {
     "data": {
      "text/plain": [
       "4747963"
      ]
     },
     "execution_count": 11,
     "metadata": {},
     "output_type": "execute_result"
    }
   ],
   "source": [
    "# Count total logs in the DataFrame\n",
    "total_logs_count = bgl_log_df.count()\n",
    "\n",
    "# Display the total number of logs\n",
    "total_logs_count"
   ]
  },
  {
   "cell_type": "markdown",
   "id": "f92f6c63",
   "metadata": {},
   "source": [
    "**TOTAL NUMBER OF LOG ENTRIES WITH LEVEL AS 'FATAL'** -- STEP 1"
   ]
  },
  {
   "cell_type": "code",
   "execution_count": 12,
   "id": "dd8e13d1",
   "metadata": {},
   "outputs": [
    {
     "name": "stderr",
     "output_type": "stream",
     "text": [
      "                                                                                \r"
     ]
    },
    {
     "data": {
      "text/plain": [
       "855195"
      ]
     },
     "execution_count": 12,
     "metadata": {},
     "output_type": "execute_result"
    }
   ],
   "source": [
    "# Filtering fatal log entries and counting them\n",
    "fatal_logs = bgl_log_df.filter(col(\"level\") == \"FATAL\")\n",
    "fatal_logs_count = fatal_logs.count()\n",
    "fatal_logs_count"
   ]
  },
  {
   "cell_type": "markdown",
   "id": "f6ffab0a",
   "metadata": {},
   "source": [
    "**TOTAL NUMBER OF LOG ENTRIES WITH LEVEL AS 'FATAL' IN THE MONTH OF 'SEPTEMBER'**--STEP 2"
   ]
  },
  {
   "cell_type": "code",
   "execution_count": 13,
   "id": "3fdeacc1",
   "metadata": {},
   "outputs": [
    {
     "name": "stderr",
     "output_type": "stream",
     "text": [
      "                                                                                \r"
     ]
    },
    {
     "data": {
      "text/plain": [
       "81818"
      ]
     },
     "execution_count": 13,
     "metadata": {},
     "output_type": "execute_result"
    }
   ],
   "source": [
    "# Filtering fatal log entries for September and counting them\n",
    "fatal_logs_september = bgl_log_df.filter((col(\"level\") == \"FATAL\") & (month(col(\"date\")) == 9))\n",
    "fatal_logs_september_count = fatal_logs_september.count()\n",
    "fatal_logs_september_count"
   ]
  },
  {
   "cell_type": "markdown",
   "id": "7c1acc19",
   "metadata": {},
   "source": [
    "<span style=\"color:blue\">***TOTAL NUMBER OF 'FATAL' LOG ENTRIES IN THE MONTH OF SEPTEMBER RESULTED FROM 'major intenral error'***--FINAL ANSWER</span>"
   ]
  },
  {
   "cell_type": "code",
   "execution_count": 14,
   "id": "de528ad1",
   "metadata": {},
   "outputs": [
    {
     "name": "stderr",
     "output_type": "stream",
     "text": [
      "                                                                                \r"
     ]
    },
    {
     "data": {
      "text/plain": [
       "10"
      ]
     },
     "execution_count": 14,
     "metadata": {},
     "output_type": "execute_result"
    }
   ],
   "source": [
    "# Filtering fatal log entries with \"major internal error\" in September and counting them\n",
    "major_internal_error_september = fatal_logs_september.filter(col(\"message_content\").contains(\"major internal error\"))\n",
    "major_internal_error_september_count = major_internal_error_september.count()\n",
    "major_internal_error_september_count"
   ]
  },
  {
   "cell_type": "markdown",
   "id": "6a09fd07",
   "metadata": {},
   "source": [
    "<span style=\"color:blue\">***LIST OF ALL 'FATAL' LOG ENTRIES IN THE MONTH OF SEPTEMBER RESULTED FROM 'major intenral error'***--FINAL ANSWER</span>"
   ]
  },
  {
   "cell_type": "code",
   "execution_count": 15,
   "id": "c3fb536a",
   "metadata": {},
   "outputs": [
    {
     "name": "stderr",
     "output_type": "stream",
     "text": [
      "[Stage 17:>                                                         (0 + 1) / 1]\r"
     ]
    },
    {
     "name": "stdout",
     "output_type": "stream",
     "text": [
      "-RECORD 0-------------------------------------------------------------------------\n",
      " alert_message_flag | KERNMC                                                      \n",
      " timestamp          | 2005-09-19 13:13:01                                         \n",
      " date               | 2005-09-19                                                  \n",
      " node               | R12-M0-N0-C:J12-U01                                         \n",
      " date_and_time      | 2005-09-19 06:13:01.71549                                   \n",
      " node_repeated      | R12-M0-N0-C:J12-U01                                         \n",
      " message_type       | RAS                                                         \n",
      " system_component   | KERNEL                                                      \n",
      " level              | FATAL                                                       \n",
      " message_content    | machine check interrupt (bit=0x06): L3 major internal error \n",
      "-RECORD 1-------------------------------------------------------------------------\n",
      " alert_message_flag | KERNMC                                                      \n",
      " timestamp          | 2005-09-20 20:57:10                                         \n",
      " date               | 2005-09-20                                                  \n",
      " node               | R21-M1-ND-C:J15-U11                                         \n",
      " date_and_time      | 2005-09-20 13:57:10.519732                                  \n",
      " node_repeated      | R21-M1-ND-C:J15-U11                                         \n",
      " message_type       | RAS                                                         \n",
      " system_component   | KERNEL                                                      \n",
      " level              | FATAL                                                       \n",
      " message_content    | machine check interrupt (bit=0x06): L3 major internal error \n",
      "-RECORD 2-------------------------------------------------------------------------\n",
      " alert_message_flag | KERNMC                                                      \n",
      " timestamp          | 2005-09-20 20:57:12                                         \n",
      " date               | 2005-09-20                                                  \n",
      " node               | R21-M1-N4-C:J14-U11                                         \n",
      " date_and_time      | 2005-09-20 13:57:12.610002                                  \n",
      " node_repeated      | R21-M1-N4-C:J14-U11                                         \n",
      " message_type       | RAS                                                         \n",
      " system_component   | KERNEL                                                      \n",
      " level              | FATAL                                                       \n",
      " message_content    | machine check interrupt (bit=0x06): L3 major internal error \n",
      "-RECORD 3-------------------------------------------------------------------------\n",
      " alert_message_flag | KERNMC                                                      \n",
      " timestamp          | 2005-09-20 20:57:14                                         \n",
      " date               | 2005-09-20                                                  \n",
      " node               | R34-M0-NC-C:J16-U01                                         \n",
      " date_and_time      | 2005-09-20 13:57:14.946287                                  \n",
      " node_repeated      | R34-M0-NC-C:J16-U01                                         \n",
      " message_type       | RAS                                                         \n",
      " system_component   | KERNEL                                                      \n",
      " level              | FATAL                                                       \n",
      " message_content    | machine check interrupt (bit=0x06): L3 major internal error \n",
      "-RECORD 4-------------------------------------------------------------------------\n",
      " alert_message_flag | KERNMC                                                      \n",
      " timestamp          | 2005-09-20 20:57:15                                         \n",
      " date               | 2005-09-20                                                  \n",
      " node               | R30-M1-N4-C:J14-U11                                         \n",
      " date_and_time      | 2005-09-20 13:57:15.132838                                  \n",
      " node_repeated      | R30-M1-N4-C:J14-U11                                         \n",
      " message_type       | RAS                                                         \n",
      " system_component   | KERNEL                                                      \n",
      " level              | FATAL                                                       \n",
      " message_content    | machine check interrupt (bit=0x06): L3 major internal error \n",
      "-RECORD 5-------------------------------------------------------------------------\n",
      " alert_message_flag | KERNMC                                                      \n",
      " timestamp          | 2005-09-20 20:57:15                                         \n",
      " date               | 2005-09-20                                                  \n",
      " node               | R37-M0-N4-C:J14-U01                                         \n",
      " date_and_time      | 2005-09-20 13:57:15.363924                                  \n",
      " node_repeated      | R37-M0-N4-C:J14-U01                                         \n",
      " message_type       | RAS                                                         \n",
      " system_component   | KERNEL                                                      \n",
      " level              | FATAL                                                       \n",
      " message_content    | machine check interrupt (bit=0x06): L3 major internal error \n",
      "-RECORD 6-------------------------------------------------------------------------\n",
      " alert_message_flag | KERNMC                                                      \n",
      " timestamp          | 2005-09-20 20:57:19                                         \n",
      " date               | 2005-09-20                                                  \n",
      " node               | R12-M1-NC-C:J16-U11                                         \n",
      " date_and_time      | 2005-09-20 13:57:19.547756                                  \n",
      " node_repeated      | R12-M1-NC-C:J16-U11                                         \n",
      " message_type       | RAS                                                         \n",
      " system_component   | KERNEL                                                      \n",
      " level              | FATAL                                                       \n",
      " message_content    | machine check interrupt (bit=0x06): L3 major internal error \n",
      "-RECORD 7-------------------------------------------------------------------------\n",
      " alert_message_flag | KERNMC                                                      \n",
      " timestamp          | 2005-09-25 09:29:39                                         \n",
      " date               | 2005-09-25                                                  \n",
      " node               | R07-M0-N2-C:J10-U01                                         \n",
      " date_and_time      | 2005-09-25 02:29:39.31386                                   \n",
      " node_repeated      | R07-M0-N2-C:J10-U01                                         \n",
      " message_type       | RAS                                                         \n",
      " system_component   | KERNEL                                                      \n",
      " level              | FATAL                                                       \n",
      " message_content    | machine check interrupt (bit=0x06): L3 major internal error \n",
      "-RECORD 8-------------------------------------------------------------------------\n",
      " alert_message_flag | KERNMC                                                      \n",
      " timestamp          | 2005-09-28 05:25:51                                         \n",
      " date               | 2005-09-27                                                  \n",
      " node               | R45-M0-N8-C:J10-U01                                         \n",
      " date_and_time      | 2005-09-27 22:25:51.318668                                  \n",
      " node_repeated      | R45-M0-N8-C:J10-U01                                         \n",
      " message_type       | RAS                                                         \n",
      " system_component   | KERNEL                                                      \n",
      " level              | FATAL                                                       \n",
      " message_content    | machine check interrupt (bit=0x06): L3 major internal error \n",
      "-RECORD 9-------------------------------------------------------------------------\n",
      " alert_message_flag | -                                                           \n",
      " timestamp          | 2005-09-28 05:27:28                                         \n",
      " date               | 2005-09-27                                                  \n",
      " node               | R45-M0-N8-C:J10-U01                                         \n",
      " date_and_time      | 2005-09-27 22:27:28.325396                                  \n",
      " node_repeated      | R45-M0-N8-C:J10-U01                                         \n",
      " message_type       | RAS                                                         \n",
      " system_component   | KERNEL                                                      \n",
      " level              | FATAL                                                       \n",
      " message_content    | disable flagging of DDR UE's as major internal error.0      \n",
      "\n"
     ]
    },
    {
     "name": "stderr",
     "output_type": "stream",
     "text": [
      "\r",
      "                                                                                \r"
     ]
    }
   ],
   "source": [
    "major_internal_error_september.show(truncate=False, vertical=True)"
   ]
  },
  {
   "cell_type": "markdown",
   "id": "f84cc462",
   "metadata": {},
   "source": [
    "# Section 3: Visualization"
   ]
  },
  {
   "cell_type": "markdown",
   "id": "79e05dff",
   "metadata": {},
   "source": [
    "** GROUPINNG CALCULATING COUNT OF EACH DISTINCT 'LEVEL' IN THE DATASET**"
   ]
  },
  {
   "cell_type": "code",
   "execution_count": 16,
   "id": "d5639fa8",
   "metadata": {},
   "outputs": [],
   "source": [
    "# Calculate the percentage of each 'level' log out of the total number of logs\n",
    "log_level_types_counts = bgl_log_df.groupBy(\"level\").count().orderBy(\"level\")\n",
    "log_level_types_counts_percentage = log_level_types_counts.withColumn(\"percentage\", (log_level_types_counts[\"count\"] / total_logs_count) * 100)\n",
    "log_level_types_counts_percentage = log_level_types_counts_percentage.withColumn(\"percentage\", col(\"percentage\").cast(DoubleType()))"
   ]
  },
  {
   "cell_type": "code",
   "execution_count": 17,
   "id": "287034e4",
   "metadata": {},
   "outputs": [
    {
     "name": "stderr",
     "output_type": "stream",
     "text": [
      "                                                                                \r"
     ]
    }
   ],
   "source": [
    "# Convert the PySpark DataFrame to a Pandas DataFrame for plotting\n",
    "log_level_types_counts_percentage_df_pd = log_level_types_counts_percentage.toPandas()"
   ]
  },
  {
   "cell_type": "markdown",
   "id": "c9ad351c",
   "metadata": {},
   "source": [
    "**VISUALISING LOG 'LEVEL' TYPES AND ITS PERCENTAGE** 'LEVEL' 'FATAL' is highlighted in <span style=\"color:red\"> red</span>"
   ]
  },
  {
   "cell_type": "code",
   "execution_count": 18,
   "id": "99a4d6fb",
   "metadata": {},
   "outputs": [
    {
     "data": {
      "image/png": "[encoded data removed]",
      "text/plain": [
       "<Figure size 1200x600 with 1 Axes>"
      ]
     },
     "metadata": {},
     "output_type": "display_data"
    }
   ],
   "source": [
    "# Plot the bar chart for log levels percentage\n",
    "# https://www.geeksforgeeks.org/bar-plot-in-matplotlib/\n",
    "plt.figure(figsize=(12, 6))\n",
    "bars = plt.bar(log_level_types_counts_percentage_df_pd['level'], log_level_types_counts_percentage_df_pd['percentage'], color='b', edgecolor='black')\n",
    "for bar in bars:\n",
    "    height = bar.get_height()\n",
    "    plt.gca().text(bar.get_x() + bar.get_width() / 2, height, f\"{height:.2f}%\", ha='center', va='bottom')\n",
    "plt.xlabel('Level')\n",
    "plt.ylabel('Percentage')\n",
    "plt.title('Percentage of Log Levels')\n",
    "plt.xticks(rotation=45)\n",
    "plt.grid(axis='y', linestyle='--', alpha=0.7)\n",
    "plt.yticks(log_level_types_counts_percentage_df_pd['percentage'])\n",
    "fatal_index = log_level_types_counts_percentage_df_pd[log_level_types_counts_percentage_df_pd['level'] == 'FATAL'].index[0]\n",
    "bars[fatal_index].set_color('red')\n",
    "plt.text(0.95, 0.95, f\"Total Logs: {total_logs_count}\", transform=plt.gca().transAxes, ha='right', va='top')\n",
    "plt.tight_layout()\n",
    "plt.show()"
   ]
  },
  {
   "cell_type": "markdown",
   "id": "32377c8e",
   "metadata": {},
   "source": [
    "**GROUPING FATAL LOG ENTRIES BY MONTH AND COUNTING NUMBER OF FATAL LOG ENTRIES IN EVERY MONTH** 'SEPTEMBER' MONTH 'FATAL' is highlighted in <span style=\"color:red\"> red</span>"
   ]
  },
  {
   "cell_type": "code",
   "execution_count": 19,
   "id": "a5a0705a",
   "metadata": {},
   "outputs": [],
   "source": [
    "# Grouping fatal log entries by month and counting the number of entries for each month\n",
    "fatal_logs_by_month = fatal_logs.groupBy(month(\"date\").alias(\"month\")).count().orderBy(\"month\")"
   ]
  },
  {
   "cell_type": "code",
   "execution_count": 20,
   "id": "ff78b36a",
   "metadata": {},
   "outputs": [
    {
     "name": "stderr",
     "output_type": "stream",
     "text": [
      "                                                                                \r"
     ]
    }
   ],
   "source": [
    "# Convert the DataFrame to a Pandas DataFrame for plotting\n",
    "fatal_logs_by_month_pd = fatal_logs_by_month.toPandas()"
   ]
  },
  {
   "cell_type": "markdown",
   "id": "f4833650",
   "metadata": {},
   "source": [
    "**VISUALISING NUMBER OF FATAL LOG ENTRIES IN EVERY MONTH** 'SEPTEMBER' MONTH 'FATAL' is highlighted in <span style=\"color:red\"> red</span>"
   ]
  },
  {
   "cell_type": "code",
   "execution_count": 21,
   "id": "21737c14",
   "metadata": {},
   "outputs": [
    {
     "data": {
      "image/png": "[encoded data removed]",
      "text/plain": [
       "<Figure size 1000x600 with 1 Axes>"
      ]
     },
     "metadata": {},
     "output_type": "display_data"
    }
   ],
   "source": [
    "# Plotting the bar graph for fatal entries by month\n",
    "# https://www.geeksforgeeks.org/bar-plot-in-matplotlib/\n",
    "plt.figure(figsize=(10, 6))\n",
    "bars = plt.bar(fatal_logs_by_month_pd['month'], fatal_logs_by_month_pd['count'], color='b', edgecolor='black')\n",
    "september_index = fatal_logs_by_month_pd[fatal_logs_by_month_pd['month'] == 9].index[0]\n",
    "bars[september_index].set_color('red')\n",
    "plt.xlabel('Month')\n",
    "plt.ylabel('Number of Fatal Entries')\n",
    "plt.title('Number of Fatal Entries for Each Month')\n",
    "plt.xticks(fatal_logs_by_month_pd['month'])\n",
    "plt.grid(axis='y', linestyle='--', alpha=0.7)\n",
    "for bar in bars:\n",
    "    height = bar.get_height()\n",
    "    plt.gca().text(bar.get_x() + bar.get_width() / 2, height, f\"{int(height)}\", ha='center', va='bottom')\n",
    "plt.show()"
   ]
  },
  {
   "cell_type": "code",
   "execution_count": 22,
   "id": "11a98520",
   "metadata": {},
   "outputs": [],
   "source": [
    "# Group by date and count the occurrences for each day\n",
    "error_counts_per_day = major_internal_error_september.groupBy(\"date\").count().orderBy(\"date\")"
   ]
  },
  {
   "cell_type": "code",
   "execution_count": 23,
   "id": "04c02ba8",
   "metadata": {},
   "outputs": [
    {
     "name": "stderr",
     "output_type": "stream",
     "text": [
      "                                                                                \r"
     ]
    }
   ],
   "source": [
    "# Convert the PySpark DataFrame to a Pandas DataFrame for plotting\n",
    "error_counts_per_day_pd = error_counts_per_day.toPandas()"
   ]
  },
  {
   "cell_type": "markdown",
   "id": "3cf1b55b",
   "metadata": {},
   "source": [
    "<span style=\"color:blue\">**VISUALISING NUMBER OF FATAL LOG ENTRIES IN THE MONTH OF SEPTEMBER OVER TIME RESULTING FROM 'major intenral error**</span>"
   ]
  },
  {
   "cell_type": "code",
   "execution_count": 24,
   "id": "5a9c2745",
   "metadata": {},
   "outputs": [
    {
     "data": {
      "image/png": "[encoded data removed]",
      "text/plain": [
       "<Figure size 1200x600 with 1 Axes>"
      ]
     },
     "metadata": {},
     "output_type": "display_data"
    }
   ],
   "source": [
    "# Plot the bar chart for major internal errors over time in September\n",
    "# https://www.geeksforgeeks.org/bar-plot-in-matplotlib/\n",
    "plt.figure(figsize=(12, 6))\n",
    "plt.bar(error_counts_per_day_pd['date'], error_counts_per_day_pd['count'], color='b')\n",
    "plt.xlabel('Date')\n",
    "plt.ylabel('Number of Major Internal Errors')\n",
    "plt.title('Major Internal Errors Over Time (September)')\n",
    "plt.xticks(rotation=45)\n",
    "plt.grid(axis='y', linestyle='--', alpha=0.7)\n",
    "plt.tight_layout()\n",
    "plt.show()"
   ]
  },
  {
   "cell_type": "code",
   "execution_count": 25,
   "id": "1309b95e",
   "metadata": {},
   "outputs": [],
   "source": [
    "#https://docs.python.org/3/library/time.html\n",
    "#returns the value (in fractional seconds) of a performance counter.It does include time elapsed during sleep and is system-wide.\n",
    "executiontimeend= time.perf_counter()"
   ]
  },
  {
   "cell_type": "markdown",
   "id": "297dc04a",
   "metadata": {},
   "source": [
    "**EXECUTION TIME COUNTER STOP- TOTAL EXECUTION TIME GENERATED BELOW**"
   ]
  },
  {
   "cell_type": "code",
   "execution_count": 26,
   "id": "9d897ef2",
   "metadata": {},
   "outputs": [
    {
     "data": {
      "text/plain": [
       "16.299458110006526"
      ]
     },
     "execution_count": 26,
     "metadata": {},
     "output_type": "execute_result"
    }
   ],
   "source": [
    "# Calculating the total execution time as  time.perf_counter() returns the absolute value of the counter\n",
    "# https://stackoverflow.com/questions/25785243/understanding-time-perf-counter-and-time-process-time\n",
    "totalexecution_time= executiontimeend - executiontimestart\n",
    "totalexecution_time"
   ]
  },
  {
   "cell_type": "code",
   "execution_count": 27,
   "id": "3efd5715",
   "metadata": {},
   "outputs": [
    {
     "data": {
      "text/html": [
       "\n",
       "            <div>\n",
       "                <p><b>SparkSession - hive</b></p>\n",
       "                \n",
       "        <div>\n",
       "            <p><b>SparkContext</b></p>\n",
       "\n",
       "            <p><a href=\"http://192.168.64.4:4040\">Spark UI</a></p>\n",
       "\n",
       "            <dl>\n",
       "              <dt>Version</dt>\n",
       "                <dd><code>v3.4.0</code></dd>\n",
       "              <dt>Master</dt>\n",
       "                <dd><code>local[*]</code></dd>\n",
       "              <dt>AppName</dt>\n",
       "                <dd><code>PySparkShell</code></dd>\n",
       "            </dl>\n",
       "        </div>\n",
       "        \n",
       "            </div>\n",
       "        "
      ],
      "text/plain": [
       "<pyspark.sql.session.SparkSession at 0xffff583977f0>"
      ]
     },
     "execution_count": 27,
     "metadata": {},
     "output_type": "execute_result"
    }
   ],
   "source": [
    "# all the information on the 'spark runtime environment', executors sumamry, jobs and its stages can be found on 'Spark UI'\n",
    "spark"
   ]
  }
 ],
 "metadata": {
  "kernelspec": {
   "display_name": "Python 3 (ipykernel)",
   "language": "python",
   "name": "python3"
  },
  "language_info": {
   "codemirror_mode": {
    "name": "ipython",
    "version": 3
   },
   "file_extension": ".py",
   "mimetype": "text/x-python",
   "name": "python",
   "nbconvert_exporter": "python",
   "pygments_lexer": "ipython3",
   "version": "3.10.12"
  }
 },
 "nbformat": 4,
 "nbformat_minor": 5
}
